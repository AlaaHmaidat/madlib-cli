{
 "cells": [
  {
   "cell_type": "code",
   "execution_count": 1,
   "metadata": {},
   "outputs": [
    {
     "name": "stdout",
     "output_type": "stream",
     "text": [
      "test\n"
     ]
    }
   ],
   "source": [
    "print(\"test\")"
   ]
  },
  {
   "cell_type": "code",
   "execution_count": 5,
   "metadata": {},
   "outputs": [
    {
     "name": "stdout",
     "output_type": "stream",
     "text": [
      "1.0\n",
      "bye bye\n",
      "Hello\n"
     ]
    }
   ],
   "source": [
    "try:\n",
    "    num = int(input(\"enter a numb\"))\n",
    "    res = 1/num\n",
    "except ZeroDivisionError as err:\n",
    "    print(\"something went wrong!\")\n",
    "    print(err)\n",
    "except ValueError as err:\n",
    "    print(\"something went wrong!\")\n",
    "    print(err)\n",
    "except Exception as err:\n",
    "    print(err)\n",
    "else:\n",
    "    print(res)\n",
    "finally:\n",
    "    print(\"bye bye\")\n",
    "    \n",
    "print(\"...\")"
   ]
  },
  {
   "cell_type": "code",
   "execution_count": 7,
   "metadata": {},
   "outputs": [
    {
     "name": "stdout",
     "output_type": "stream",
     "text": [
      "Error : only positive numbers are accepted!\n",
      "Hello\n"
     ]
    }
   ],
   "source": [
    "def get_age():\n",
    "    age=int(input(\"Enter your age\"))\n",
    "    if(age<0):\n",
    "        raise ValueError(\"Error : only positive numbers are accepted!\")\n",
    "    print(age)\n",
    "\n",
    "try:\n",
    "    get_age()\n",
    "except ValueError as err:\n",
    "    print(err)\n",
    "print(\"Hello\")"
   ]
  }
 ],
 "metadata": {
  "kernelspec": {
   "display_name": ".venv",
   "language": "python",
   "name": "python3"
  },
  "language_info": {
   "codemirror_mode": {
    "name": "ipython",
    "version": 3
   },
   "file_extension": ".py",
   "mimetype": "text/x-python",
   "name": "python",
   "nbconvert_exporter": "python",
   "pygments_lexer": "ipython3",
   "version": "3.10.7"
  },
  "orig_nbformat": 4
 },
 "nbformat": 4,
 "nbformat_minor": 2
}
